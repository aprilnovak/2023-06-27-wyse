{
 "cells": [
  {
   "cell_type": "markdown",
   "metadata": {},
   "source": [
    "# Exploring Radioactive Decay and Activity"
   ]
  },
  {
   "cell_type": "markdown",
   "metadata": {},
   "source": [
    "The following project uses Jupyter notebook as an interactive platform to introduce some basic computational nuclear engineering concepts and execute them using the python coding language."
   ]
  },
  {
   "cell_type": "markdown",
   "metadata": {},
   "source": [
    "## Project Scope"
   ]
  },
  {
   "cell_type": "markdown",
   "metadata": {},
   "source": [
    "This lesson is a brief introduction to some basic principles of coding practices that are used by nuclear engineers. In learning how to code, you'll also implement some fundamental equations that are used in nuclear engineering. As you go through this lesson, try to think about how you could use these principles to solve other equations, or how you might improve the code you're writing. If you're working with friends you may find that your approach to a problem differs. That's ok! There are many correct solutions to software programs. If you notice these, talk with your peers about why you chose the approach you did. "
   ]
  },
  {
   "cell_type": "markdown",
   "metadata": {},
   "source": [
    "The basic concepts you should learn in this coding project are:\n",
    "\n",
    "* What is activity?\n",
    "* How does distance from a source affect the particle rate at that distance?\n",
    "* What is shielding and how is it related to particle rate?\n",
    "* How to computationally solve an equation"
   ]
  },
  {
   "cell_type": "markdown",
   "metadata": {},
   "source": [
    "Each objective should be executed in order."
   ]
  },
  {
   "cell_type": "markdown",
   "metadata": {},
   "source": [
    "### Objective 1: Calculating radionuclide activity"
   ]
  },
  {
   "cell_type": "markdown",
   "metadata": {},
   "source": [
    "A radionuclide is an atom that undergoes radioactive decay.  \n",
    "\n",
    "A radionuclide's activity is a measure of its radioactive decay rate (in units of disintegrations or particles emitted per second) and is given by the following equation:\n",
    "\n",
    "$$ A_{i} = \\lambda N $$\n",
    "\n",
    "where $N$ is the initial concentration of atoms and $\\lambda$ is the radionuclide decay constant in units of 1/seconds.  \n",
    "\n",
    "$\\lambda$ is related to the half life ($t_{1/2})$, or the time for the activity to be half of its initial value, with the following equation: \n",
    "\n",
    "$$ \\lambda = \\frac{\\ln(2)}{t_{1/2}} $$"
   ]
  },
  {
   "cell_type": "markdown",
   "metadata": {},
   "source": [
    "\n",
    "Finally, the activity of a source with initial activity $A_{i}$ after an elapsed time $\\Delta t$ ($\\Delta t$ is the way we write $t_{b}-t_{a}$), is given by $A$, or:\n",
    "\n",
    "$$ A = A_{i}e^{-\\lambda\\Delta t} $$"
   ]
  },
  {
   "cell_type": "markdown",
   "metadata": {},
   "source": [
    "We can solve this equation computationally by passing inputs to a simple function that calculates and returns the radionuclide's activity.\n",
    "\n",
    "Try updating the defined function below using the equation for activity so that this function returns a radionuclide's activity at a given time."
   ]
  },
  {
   "cell_type": "code",
   "execution_count": null,
   "metadata": {},
   "outputs": [],
   "source": [
    "# First we need to import a python math library\n",
    "import math"
   ]
  },
  {
   "cell_type": "markdown",
   "metadata": {},
   "source": [
    "For this objective and subsequent objectives, you should be able to get by using most of the basic python operators (`*`, `/`, `+`, `-`). However, $e$ and $\\ln$ are both functions in the math package, which is why we've loaded it. You can access them with `math.exp()` and `math.log()`. If you're curious, here is the page with all of the functions available in the math package: https://docs.python.org/2/library/math.html.  "
   ]
  },
  {
   "cell_type": "code",
   "execution_count": null,
   "metadata": {},
   "outputs": [],
   "source": [
    "def calculate_activity_with_time(nuclide_decay_constant, initial_concentration, time):\n",
    "    \"\"\"\n",
    "    This function calculates the activity of a radionuclide\n",
    "    \n",
    "    input: decay constant for a radionuclide [1/seconds], initial concentration of atoms, \n",
    "           time [seconds]\n",
    "    output: activity [particles/second]\n",
    "    \"\"\"\n",
    "    return activity"
   ]
  },
  {
   "cell_type": "markdown",
   "metadata": {},
   "source": [
    "Test your function by calculating the activity at $t = 500 $ seconds of a radionuclide with an initial concentration of $10^{24}$ atoms and a half life of 10 days."
   ]
  },
  {
   "cell_type": "markdown",
   "metadata": {},
   "source": [
    "#### Objective 1 discussion questions:\n",
    "\n",
    "* What happens as you vary the initial concentration of atoms? \n",
    "* How does the activity compare if you have a very short half-life vs. a very long half-life? \n",
    "* What happens if the length of time you wait is very different from the time of your half life? \n",
    "* What other functions could you write that would make this function easier to use? "
   ]
  },
  {
   "cell_type": "code",
   "execution_count": null,
   "metadata": {},
   "outputs": [],
   "source": [
    "# Test your function here\n",
    "act_t500 = calculate_activity_with_time()\n",
    "print(act_t500)"
   ]
  },
  {
   "cell_type": "code",
   "execution_count": null,
   "metadata": {},
   "outputs": [],
   "source": [
    "# You do not need to add anything, just run this cell to see how you did!\n",
    "\n",
    "import matplotlib.pyplot as plt\n",
    "import numpy as np\n",
    "plt.rcParams.update({'font.size': 13}) # this makes the text bigger\n",
    "mycolors = [\"#332288\", \"#117733\", \"#44AA99\", \"#88CCEE\", \"#DDCC77\", \"#CC6677\", \"#AA4499\", \"#882255\"] # this is an accessible list of colors that I use for plotting\n",
    "\n",
    "ts = np.arange(400,600,1) # this defines our times before running\n",
    "activity_over_time = []\n",
    "for i in ts: # this loop calculated the activity at each time step\n",
    "    activity_over_time.append(calculate_activity_with_time(np.log(2)/(10*24*60*60), 10**24, i))\n",
    "\n",
    "plt.plot(ts, activity_over_time, color=mycolors[0], linestyle='--', linewidth=3) # this plots the \"correct answer\"\n",
    "plt.scatter(500, act_t500, color=mycolors[1], linewidth=7.0) # this plots your answer at time = 500\n",
    "\n",
    "# these lines change the text around the plot, notice I put units in brackets\n",
    "plt.title('Source Activity Over Time')\n",
    "plt.ylabel('Activity [$10^{10}$ disintegrations/sec]')\n",
    "plt.xlabel('Time [sec]')"
   ]
  },
  {
   "cell_type": "markdown",
   "metadata": {},
   "source": [
    "### Objective 2: Effects of Distance"
   ]
  },
  {
   "cell_type": "markdown",
   "metadata": {},
   "source": [
    "Now calculate the particle rate that is hitting an object some distance away from a radionuclide.\n",
    "\n",
    "$$ particle\\ rate = A_i\\frac{exposure\\ area}{4\\pi r^{2}} $$ \n",
    "\n",
    "Let's assume that the `exposure area` here is the cross sectional area of the human body. We will make an assumption that this is a person's height times their width across the shoulders.\n",
    "\n",
    "Modify the function below using the equation above to determine the particle rate seen by the human body.  You must determine what the output for this function should be."
   ]
  },
  {
   "cell_type": "code",
   "execution_count": null,
   "metadata": {},
   "outputs": [],
   "source": [
    "def calculate_particles_with_distance(distance_from_source, body_surface_area, initial_concentration):\n",
    "    \"\"\"\n",
    "    This function calculates the total number of particles hitting a body at distance \n",
    "    `distance_from_source` away from the source.\n",
    "\n",
    "    Assumptions:\n",
    "    The area of a human body can be calculated as height*width.\n",
    "\n",
    "    input: distance_from_source [cm], body_surface_area [cm^2], initial concentration of atoms. \n",
    "    output: ???\n",
    "    \"\"\"\n",
    "\n",
    "    \n",
    "    return "
   ]
  },
  {
   "cell_type": "markdown",
   "metadata": {},
   "source": [
    "Test your function by calculating the number of particles per second hitting a 6 feet tall and 1.5 feet wide person standing 100 cm from a source emitting 2000 particles per second. "
   ]
  },
  {
   "cell_type": "code",
   "execution_count": null,
   "metadata": {},
   "outputs": [],
   "source": [
    "# Test your function here\n",
    "ppd_100 = calculate_particles_with_distance()\n",
    "print(ppd_100)"
   ]
  },
  {
   "cell_type": "markdown",
   "metadata": {},
   "source": [
    "#### Objective 2 discussion questions:\n",
    "\n",
    "* How does changing the distance away from the source affect the total particle rate hitting the body? \n",
    "* Imagine if Michael Jordan and Simone Biles were both in the room with this source. Would the particle rate that each of them sees be different? How would it differ? \n",
    "* What would happen if instead of facing the source, you turned sideways so your shoulder was pointing to it? \n",
    "* Do you think there are assumptions to this equation? What are they? Hint: what happens if you make the distance from the source very small? \n",
    "* What other functions could you write that would make this function easier to use? "
   ]
  },
  {
   "cell_type": "code",
   "execution_count": null,
   "metadata": {},
   "outputs": [],
   "source": [
    "# You do not need to add anything, just run this cell to see how you did!\n",
    "\n",
    "rs = np.arange(50,150,1) # this defines our times before running\n",
    "particles_over_distance = []\n",
    "for i in rs: # this loop calculated the activity at each time step\n",
    "    particles_over_distance.append(calculate_particles_with_distance(i, 22.86, 2000))\n",
    "\n",
    "plt.plot(rs, particles_over_distance, color=mycolors[0], linestyle='--', linewidth=3) # this plots the \"correct answer\"\n",
    "plt.scatter(100, ppd_100, color=mycolors[1], linewidth=7.0) # this plots your answer at time = 500\n",
    "\n",
    "# these lines change the text around the plot, notice I put units in brackets\n",
    "plt.title('Particles Over Distance From Source')\n",
    "plt.ylabel('Activity [particles/sec]')\n",
    "plt.xlabel('Distance [cm]')"
   ]
  },
  {
   "cell_type": "markdown",
   "metadata": {},
   "source": [
    "### Objective 3: Inserting a shield"
   ]
  },
  {
   "cell_type": "markdown",
   "metadata": {},
   "source": [
    "Now let's think about adding a shield between the source that's emitting particles and where we are detecting a particle rate. \n",
    "\n",
    "The intensity (or particle rate) of particles exiting a shield ($I_B$) is related to the particle intensity entering the shield ($I_A$) by the following equation:\n",
    "\n",
    "$$ I_B = I_A e^{ - \\Sigma x} $$\n"
   ]
  },
  {
   "cell_type": "markdown",
   "metadata": {},
   "source": [
    "Where $\\Sigma$ is the macroscopic cross section, in $1/{cm}$, which differs based on material properties of the shield, and $x$ is the shield thickness.  The macroscopic cross section is a measured property of a material. \n",
    "\n",
    "The equation above tells us that the shield attenuates the particle stream hitting it based upon the shield properties and thickness."
   ]
  },
  {
   "cell_type": "markdown",
   "metadata": {},
   "source": [
    "Modify the function below using the equation above to calculate the intensity (particle rate) exiting a shield.  You must determine what the inputs and output should be."
   ]
  },
  {
   "cell_type": "code",
   "execution_count": null,
   "metadata": {},
   "outputs": [],
   "source": [
    "# Fill out the input and output fields in the comments here so others know what your code is intended to do! \n",
    "def calculate_shield_attenuation(init_intensity, macro, thickness):\n",
    "    \"\"\"\n",
    "    This function calculates the change in particle rate given a shield of a specific thickness. \n",
    "    \n",
    "    input: ???\n",
    "    output: ??? \n",
    "    \"\"\"\n",
    "    \n",
    "    return"
   ]
  },
  {
   "cell_type": "markdown",
   "metadata": {},
   "source": [
    "Test your function by calculating the intensity of particles with an initial intensity of $10^{15}$ particles/second  after passing through a shield of thickness 4 cm with a macroscopic cross section of $\\Sigma = 0.2$ cm$^{-1}$."
   ]
  },
  {
   "cell_type": "code",
   "execution_count": null,
   "metadata": {},
   "outputs": [],
   "source": [
    "# Test your function here\n",
    "shield_4 = calculate_shield_attenuation()\n",
    "print(shield_4)"
   ]
  },
  {
   "cell_type": "markdown",
   "metadata": {},
   "source": [
    "#### Objective 3 discussion questions\n",
    "\n",
    "* If you were choosing a shielding material, what type of macroscopic cross section would you look for and why?\n",
    "* Do you think there are assumptions to this equation?  What are they?"
   ]
  },
  {
   "cell_type": "code",
   "execution_count": null,
   "metadata": {},
   "outputs": [],
   "source": [
    "# You do not need to add anything, just run this cell to see how you did!\n",
    "\n",
    "thicks = np.arange(0,30,1) # this defines our times before running\n",
    "particles_over_thickness = []\n",
    "for i in thicks: # this loop calculated the activity at each time step\n",
    "    particles_over_thickness.append(calculate_shield_attenuation(10**15, 0.2, i))\n",
    "\n",
    "plt.plot(thicks, particles_over_thickness, color=mycolors[0], linestyle='--', linewidth=3) # this plots the \"correct answer\"\n",
    "plt.scatter(4, shield_4, color=mycolors[1], linewidth=7.0) # this plots your answer at time = 500\n",
    "\n",
    "# these lines change the text around the plot, notice I put units in brackets\n",
    "plt.title('Particles Over Shield Thickness')\n",
    "plt.ylabel('Activity [particles/sec]')\n",
    "plt.xlabel('Thickness [cm]')"
   ]
  },
  {
   "cell_type": "markdown",
   "metadata": {},
   "source": [
    "### Objective 4: Putting it all together"
   ]
  },
  {
   "cell_type": "markdown",
   "metadata": {},
   "source": [
    "Something that we often do in programming is call (or use) functions within other functions. This makes our code easier to read, and also allows us to reuse smaller, simpler functions in other places so we do not have to keep rewriting things, which can get really annoying and leads to duplicate code.\n",
    "\n",
    "\n",
    "Using the three functions that you have defined above, try to write a function that returns the exposure (in decays/sec) you see from a source after a time, `elapsed_time`, at a specific distance, `distance_away`, and with a shield of thickness `shield_thickness` between you and the source. This equation may look a bit complicated, but luckily the earlier function definitions makes our implementation easier!\n",
    "\n",
    "$$ Exposure = A_{time}*A_{distance}*A_{shielding} $$\n",
    "\n",
    "which can also be rewritten as:\n",
    "\n",
    "$$ Exposure = A_{i}e^{-\\lambda t} * \\frac{exposure\\ area}{4 \\pi r^{2}} * e^{-\\Sigma x} $$ "
   ]
  },
  {
   "cell_type": "markdown",
   "metadata": {},
   "source": [
    "Assume the same material properties and body dimensions that you used in your earlier functions so they are not inputs for this new function.  In other words, make the $\\lambda$, `exposure area`, and $\\Sigma$ fixed input values."
   ]
  },
  {
   "cell_type": "code",
   "execution_count": null,
   "metadata": {},
   "outputs": [],
   "source": [
    "# Fill out the assumptions, input and output fields in the comments here so \n",
    "# others know what your code is intended to do! \n",
    "\n",
    "def calculate_activity_of_all_effects(elapsed_time, distance_away, shield_thickness, initial_concentration):\n",
    "    \"\"\"\n",
    "    This function calculates the activity seen from a source by a shielded human \n",
    "    after a time `elapsed_time` and a distance `distance_away`\n",
    "\n",
    "    Assumptions:\n",
    "    ?\n",
    "\n",
    "    input: ???\n",
    "    output: ???\n",
    "    \"\"\"\n",
    "    return particle_rate"
   ]
  },
  {
   "cell_type": "markdown",
   "metadata": {},
   "source": [
    "Test your function by calculating the activity of a source with initial concentration of $10^{15}$ atoms and half life of 10 days that has passed through a shield of thickness 4 cm with a macroscopic cross section of $\\Sigma = 0.2$ cm$^{-1}$ and is measured at a distance of 1000 cm after 8000 seconds."
   ]
  },
  {
   "cell_type": "code",
   "execution_count": null,
   "metadata": {},
   "outputs": [],
   "source": [
    "# Test your function here\n",
    "# calculate_activity_of_all_effects"
   ]
  },
  {
   "cell_type": "code",
   "execution_count": null,
   "metadata": {},
   "outputs": [],
   "source": [
    "# try your own plot if you have time!"
   ]
  },
  {
   "cell_type": "markdown",
   "metadata": {},
   "source": [
    "## More problems! \n",
    "\n",
    "#### Thickness of shielding material\n",
    "* Create a list of several thicknesses of material. \n",
    "* Using a for loop, calculate the intensity reduction for each thickness of material in the list and save it to another list\n",
    "* Try to plot these two lists and show the relationship between distance and activity\n",
    "* Choose another material property to represent $\\Sigma$, create a second list shoowing the reduction of intensity for this new material\n",
    "* Plot the relationship of both materials with thickness on a single plot"
   ]
  },
  {
   "cell_type": "markdown",
   "metadata": {},
   "source": [
    "Once you have completed the thickness exercise, we can use these functions along with python plotting tools to do stuff.\n",
    "\n",
    "See if you can use python matplotlib routines to make plots of the following:\n",
    "* A plot of activity versus time\n",
    "* A plot of particle rate versus distance\n",
    "* A plot of particle intensity versus shield thickness\n",
    "* A plot of particle intensity versus shield material\n",
    "\n",
    "What else would be interesting to plot with regard to activity and particle intensity?"
   ]
  },
  {
   "cell_type": "code",
   "execution_count": null,
   "metadata": {},
   "outputs": [],
   "source": []
  }
 ],
 "metadata": {
  "kernelspec": {
   "display_name": "Python 3 (ipykernel)",
   "language": "python",
   "name": "python3"
  },
  "language_info": {
   "codemirror_mode": {
    "name": "ipython",
    "version": 3
   },
   "file_extension": ".py",
   "mimetype": "text/x-python",
   "name": "python",
   "nbconvert_exporter": "python",
   "pygments_lexer": "ipython3",
   "version": "3.9.13"
  },
  "latex_envs": {
   "LaTeX_envs_menu_present": true,
   "autoclose": false,
   "autocomplete": true,
   "bibliofile": "biblio.bib",
   "cite_by": "apalike",
   "current_citInitial": 1,
   "eqLabelWithNumbers": true,
   "eqNumInitial": 1,
   "hotkeys": {
    "equation": "Ctrl-E",
    "itemize": "Ctrl-I"
   },
   "labels_anchors": false,
   "latex_user_defs": false,
   "report_style_numbering": false,
   "user_envs_cfg": false
  }
 },
 "nbformat": 4,
 "nbformat_minor": 2
}
